{
 "cells": [
  {
   "cell_type": "code",
   "execution_count": 1,
   "metadata": {},
   "outputs": [],
   "source": [
    "file=open(\"../data/parcellation/shen/shen_368_BAindexing_MNI\")"
   ]
  },
  {
   "cell_type": "code",
   "execution_count": 2,
   "metadata": {},
   "outputs": [],
   "source": [
    "content=file.readlines()"
   ]
  },
  {
   "cell_type": "code",
   "execution_count": 7,
   "metadata": {},
   "outputs": [],
   "source": [
    "region_index={}\n",
    "for i in content:\n",
    "    i=i.split()\n",
    "    if i[0] == \"subunnit\":\n",
    "        continue\n",
    "    region=int(i[0].split(\",\")[0])\n",
    "    x=int(i[2].split(\",\")[0])\n",
    "    y=int(i[3].split(\",\")[0])\n",
    "    z=int(i[4].split(\",\")[0])\n",
    "    region_index[region]=[x,y,z]\n"
   ]
  },
  {
   "cell_type": "code",
   "execution_count": 8,
   "metadata": {},
   "outputs": [],
   "source": [
    "output=open(\"./tempdata/region_cor\",\"w\")"
   ]
  },
  {
   "cell_type": "code",
   "execution_count": 9,
   "metadata": {},
   "outputs": [],
   "source": [
    "for i in range(1,369):\n",
    "    cor=region_index[i]\n",
    "    sen=str(i) + \" \" + str(cor[0])+ \" \" + str(cor[1])+ \" \" + str(cor[2])+\"\\n\"\n",
    "    output.write(sen)\n",
    "output.close()"
   ]
  }
 ],
 "metadata": {
  "kernelspec": {
   "display_name": "Python 3",
   "language": "python",
   "name": "python3"
  },
  "language_info": {
   "codemirror_mode": {
    "name": "ipython",
    "version": 3
   },
   "file_extension": ".py",
   "mimetype": "text/x-python",
   "name": "python",
   "nbconvert_exporter": "python",
   "pygments_lexer": "ipython3",
   "version": "3.10.6"
  },
  "orig_nbformat": 4
 },
 "nbformat": 4,
 "nbformat_minor": 2
}
